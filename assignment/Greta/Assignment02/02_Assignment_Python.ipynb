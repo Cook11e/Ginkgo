{
 "cells": [
  {
   "cell_type": "markdown",
   "metadata": {
    "id": "LZgQdr4W6iKz"
   },
   "source": [
    "# Assignment 02\n",
    "##### Python Basics II\n",
    "\n",
    "This tutorial was written by Terry Ruas (University of Göttingen). The references for external contributors for which this material was anyhow adapted/inspired are in the Acknowledgments section (end of the document).\n"
   ]
  },
  {
   "cell_type": "markdown",
   "metadata": {
    "id": "Yvektzz_6iK1"
   },
   "source": [
    "This notebook will cover the following tasks:\n",
    "\n",
    "1. String Length\n",
    "2. Largest List Element\n",
    "3. Character Frequency\n",
    "4. Sorted List of Tuples\n",
    "5. Check Brackets\n",
    "6. Check Brackets II\n",
    "7. Queue\n",
    "8. Unlimited Power\n",
    "9. Unlimited Power II"
   ]
  },
  {
   "cell_type": "markdown",
   "metadata": {
    "id": "4GPUv_8U6iK1"
   },
   "source": [
    "## Task 01 – String Length\n",
    "Write a program that reads in a string and prints the length of the input string. Do not use any built-in functions of Python, such as len().\n",
    "For example, if the input is “Computer Science”, the output should be length: 16."
   ]
  },
  {
   "cell_type": "code",
   "execution_count": null,
   "metadata": {
    "id": "xt3XV0YD6iK2"
   },
   "outputs": [],
   "source": [
    "a = input()\n",
    "count=0\n",
    "for e in a:\n",
    "    count+=1\n",
    "    \n",
    "print(\"length:\",count)"
   ]
  },
  {
   "cell_type": "markdown",
   "metadata": {
    "id": "_Jz4T4AQ6iK3"
   },
   "source": [
    "## Task 02 – Largest List Element\n",
    "Write a program that generates a list of 10 random integers between 1 and 100 and then finds and prints the largest element in the list. Do not use the built-in function max().\n",
    "For example, if the input is [23,3,42,29,12,15,8,4,37,34], the output should be the largest element: 42.\n",
    "\n",
    "Hint: Check out the module [random](https://docs.python.org/3.7/library/random.html)."
   ]
  },
  {
   "cell_type": "code",
   "execution_count": null,
   "metadata": {
    "id": "aKLGcZ0_6iK3"
   },
   "outputs": [],
   "source": [
    "import random\n",
    "\n",
    "s=random.sample(range(2,100), 10)\n",
    "comp=1\n",
    "\n",
    "for i in s:\n",
    "    if comp < i:\n",
    "        comp = i\n",
    "\n",
    "print(\"input:\",s)\n",
    "print(\"largest element:\",comp)"
   ]
  },
  {
   "cell_type": "markdown",
   "metadata": {
    "id": "PalhJ9x36iK4"
   },
   "source": [
    "## Task 03 – Character Frequency\n",
    "Write a program that:\n",
    "* Reads in a string and removes any spaces from the string\n",
    "* Counts how often individual characters occur in the string\n",
    "* Stores the information on character occurrence frequency in a dictionary\n",
    "* Prints the dictionary.\n",
    "\n",
    "For example, if the input is “santa claus”, the output should be:\n",
    "{'s': 2, 'a': 3, 'n': 1, 't': 1, 'c': 1, 'l': 1, 'u': 1}."
   ]
  },
  {
   "cell_type": "code",
   "execution_count": null,
   "metadata": {
    "id": "vm5UlcKB6iK4"
   },
   "outputs": [],
   "source": [
    "inp = input()\n",
    "print(\"input\",inp)\n",
    "\n",
    "inp=inp.replace(\" \",\"\")\n",
    "dic={}\n",
    "\n",
    "while(inp != \"\"):\n",
    "    z=inp.count(inp[0])\n",
    "    dic[inp[0]]=z\n",
    "    inp=inp.replace(inp[0],\"\")\n",
    "    \n",
    "print(dic)"
   ]
  },
  {
   "cell_type": "markdown",
   "metadata": {
    "id": "JV1Mm9qA6iK5"
   },
   "source": [
    "## Task 04 – Sorted List of Tuples\n",
    "Write a program that:\n",
    "* Generates a list of 10 tuples, each tuple consisting of 3 random integers between 1 and 100\n",
    "* Sorts the list of tuples in increasing order of the third element in each tuple\n",
    "* Prints the sorted list of tuples\n",
    "\n",
    "For example, if the generated input list is: [(56, 77, 69), (43, 30, 38), (2, 77, 101), (93, 57, 4), (74, 21, 77), (39, 68, 68), (65, 53, 96), (16, 29, 88), (88, 70, 38)]\n",
    "The output should be: [(93, 57, 4), (43, 30, 38), (88, 70, 38), (39, 68, 68), (56, 77, 69), (74, 21, 77), (16, 29, 88), (65, 53, 96), (2, 77, 101)]\n",
    "\n",
    "Hint: You are allowed and encouraged to use built-in functions, such as [sorted()](https://docs.python.org/3.7/library/functions.html?highlight=sorted#sorted), for this task."
   ]
  },
  {
   "cell_type": "code",
   "execution_count": null,
   "metadata": {
    "id": "C3i7ctus6iK6"
   },
   "outputs": [],
   "source": [
    "liste=[(56, 77, 69), (43, 30, 38),\n",
    " (2, 77, 101), (93, 57, 4), (74, 21, 77), (39, 68, 68), (65, 53, 96), (16, 29, 88), (88, 70, 38)]\n",
    "\n",
    "for tup in liste:\n",
    "    rar=tup[0]*100+tup[1]**10+tup[0]\n",
    "    \n",
    "\n",
    "\n",
    "liste_s=sorted(liste, reverse=True)\n",
    "print(liste_s)"
   ]
  },
  {
   "cell_type": "markdown",
   "metadata": {
    "id": "qz4P36Lz6iK6"
   },
   "source": [
    "## Task 05 – Check Brackets\n",
    "Write a program that reads in a string, which is supposed to be a mathematical expression. Focus on brackets only and check whether left and right brackets are composed correctly. Ignore all other characters (i.e. you don’t have to check correctness of operators and operands).\n",
    "Examples of correct input:\n",
    "* 3*(2+5)\n",
    "* ((()())())\n",
    "* (3+)(((4)))\n",
    "* Empty string\n",
    "\n",
    "Examples of incorrect input:\n",
    "* (3*(2+5)\n",
    "* ((()())(())\n",
    "* (3+)((4)))\n",
    "* ())(()\n"
   ]
  },
  {
   "cell_type": "code",
   "execution_count": null,
   "metadata": {
    "id": "2c67p_Zc6iK7"
   },
   "outputs": [],
   "source": [
    "string = input()\n",
    "\n",
    "if string.count(\"(\") != string.count(\")\"):\n",
    "    print(\"Incorrect Input!\")\n",
    "else:\n",
    "    print(\"Correct Input\")\n",
    "          "
   ]
  },
  {
   "cell_type": "markdown",
   "metadata": {
    "id": "k1kh3odh6iK7"
   },
   "source": [
    "## Task 06 – Check Brackets II\n",
    "Extend previous program, so it can handle also square and curly brackets. Note that expressions in brackets cannot overlap. So, expression ```{[()()]([[]])}{}``` is correct, but expression ```([)]``` is not."
   ]
  },
  {
   "cell_type": "code",
   "execution_count": null,
   "metadata": {
    "id": "2-UCbTRQ6iK7"
   },
   "outputs": [],
   "source": [
    "string = input()\n",
    "boo = False\n",
    "for character in string:        #removing all characters that are not brackets\n",
    "    if character not in \"([{}])\":\n",
    "        string=string.replace(character,\"\")        \n",
    "string_1 = \"\"\n",
    "\n",
    "while string_1 != string:      #while string is changing\n",
    "    string_1=string\n",
    "    string=string.replace(\"()\",\"\")\n",
    "    string=string.replace(\"[]\",\"\")\n",
    "    string=string.replace(\"{}\",\"\")\n",
    "    \n",
    "if string==\"\":\n",
    "    print(\"Correct Input!\")\n",
    "else:\n",
    "    print(\"Incorrect Input\")\n",
    "          "
   ]
  },
  {
   "cell_type": "markdown",
   "metadata": {
    "id": "tc-8rPlP6iK7"
   },
   "source": [
    "## Task 07 – Queue\n",
    "Write a program that simulates a queue. It will read strings from the input. Consider these inputs as names of people coming to the end of a queue. Whenever “next” is given as input, the program will print out the name on the turn. The program finishes as soon as the queue is empty."
   ]
  },
  {
   "cell_type": "code",
   "execution_count": null,
   "metadata": {
    "id": "X0o04N6s6iK7"
   },
   "outputs": [],
   "source": [
    "queue=[]\n",
    "while True:\n",
    "    befehl = input()\n",
    "    if befehl == \"next\":\n",
    "        del queue[0]\n",
    "    else:\n",
    "        queue.append(befehl)\n",
    "    if queue == []:\n",
    "        break"
   ]
  },
  {
   "cell_type": "markdown",
   "metadata": {
    "id": "eIhaN3g36iK8"
   },
   "source": [
    "## Task 08 – Unlimited Power\n",
    "Write a function with two arguments – $x$ and $n$. The function returns the value of $x^n$. Use [recursion](https://realpython.com/python-thinking-recursively/#recursive-data-structures-in-python)."
   ]
  },
  {
   "cell_type": "code",
   "execution_count": 2,
   "metadata": {
    "id": "KSGHEAeL6iK8"
   },
   "outputs": [
    {
     "name": "stdout",
     "output_type": "stream",
     "text": [
      "3\n",
      "9\n",
      "27\n"
     ]
    },
    {
     "data": {
      "text/plain": [
       "27"
      ]
     },
     "execution_count": 2,
     "metadata": {},
     "output_type": "execute_result"
    }
   ],
   "source": [
    "def x_hoch_n(x,n):\n",
    "    pot = 1\n",
    "    if n==0:\n",
    "        return 1\n",
    "    else:\n",
    "        pot = pot*x*x_hoch_n(x,n-1)\n",
    "        print(pot)\n",
    "        return(pot)\n",
    "        \n",
    "    \n",
    "x_hoch_n(3,3)"
   ]
  },
  {
   "cell_type": "markdown",
   "metadata": {
    "id": "WBh2WBXY6iK8"
   },
   "source": [
    "## Task 09 – Unlimited Power II\n",
    "Using function for factorial and function $x^n$ from previous task, write a program that reads value of $x$ and prints approximate value of $e^x$. Use this formula (Taylor series) for calculation\n",
    "$$ e^x = 1 + x + \\frac{x^2}{2!} + \\frac{x^3}{3!} + ... + \\frac{x^n}{n!} $$\n",
    "\n",
    "To get precise value of $e^x$, the series would have to be infinite. Suppose that there is some required accuracy, so the calculation finishes as soon as the value of the next element is smaller than given threshold (e.g., 0.000001)."
   ]
  },
  {
   "cell_type": "code",
   "execution_count": 17,
   "metadata": {
    "id": "tRaZgBVX6iK9"
   },
   "outputs": [
    {
     "name": "stdout",
     "output_type": "stream",
     "text": [
      "5\n",
      "148.41315898276957\n"
     ]
    }
   ],
   "source": [
    "import numpy as np\n",
    "def factorial(x):\n",
    "    mul=1\n",
    "    if x!=0:\n",
    "        for a in range(1,int(x)+1):\n",
    "            mul*=a\n",
    "    return mul\n",
    "\n",
    "def x_hoch_n(x,n):\n",
    "    pot = 1\n",
    "    if n==0:\n",
    "        return 1\n",
    "    else:\n",
    "        pot = pot*x*x_hoch_n(x,n-1)\n",
    "        return(pot)\n",
    "    \n",
    "x = int(input())\n",
    "n=1\n",
    "e_x=1\n",
    "\n",
    "while x_hoch_n(x,n)/factorial(n)>0.0000001:\n",
    "    e_x=e_x+(x_hoch_n(x,n))/factorial(n)\n",
    "    n=n+1\n",
    "print(e_x)\n"
   ]
  },
  {
   "cell_type": "markdown",
   "metadata": {
    "id": "Wl9JCEYM6iK-"
   },
   "source": [
    "## Acknowledgements\n",
    "\n",
    "Redmond, Hsu, Saini, Gupta, Ramsey, Kondrich, Capoor, Cohen, Borus, Kincaid, Malik, and many others. - Stanford CS41"
   ]
  }
 ],
 "metadata": {
  "colab": {
   "collapsed_sections": [],
   "provenance": []
  },
  "kernelspec": {
   "display_name": "Python 3 (ipykernel)",
   "language": "python",
   "name": "python3"
  },
  "language_info": {
   "codemirror_mode": {
    "name": "ipython",
    "version": 3
   },
   "file_extension": ".py",
   "mimetype": "text/x-python",
   "name": "python",
   "nbconvert_exporter": "python",
   "pygments_lexer": "ipython3",
   "version": "3.9.7"
  }
 },
 "nbformat": 4,
 "nbformat_minor": 1
}
