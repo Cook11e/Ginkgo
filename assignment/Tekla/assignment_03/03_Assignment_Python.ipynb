{
 "cells": [
  {
   "cell_type": "markdown",
   "metadata": {
    "id": "3i7Q6MM_7a82"
   },
   "source": [
    "# Assignment 03\n",
    "#### Python Basics III - Functions and Classes\n",
    "\n",
    "This tutorial was written by Terry L. Ruas (University of Göttingen). The references for external contributors for which this material was anyhow adapted/inspired are in the Acknowledgments section (end of the document)."
   ]
  },
  {
   "cell_type": "markdown",
   "metadata": {
    "id": "eKtTDCOS7a83"
   },
   "source": [
    "This notebook will cover the following tasks:\n",
    "\n",
    "1. Dictionary\n",
    "2. Classes"
   ]
  },
  {
   "cell_type": "markdown",
   "metadata": {
    "id": "XumFInmh7a85"
   },
   "source": [
    "## Task 01 – Dictionary\n",
    "Imagine you have to write a (very simple) bookkeepingsystem for a bank that keeps track of the account balances of each of its customers.\n",
    "1. Write a function that spans a dictionary holding a default balance of 0 for an initial list of customers. For simplicity, assume customer names are unique identifier.  (optional) Can you express that same functionality using a lambda function?\n",
    "2. What are elegant ways to add or remove single and multiple customers using the functionality of dict?\n",
    "3. Now write two simple functions that allow you to deposit and withdraw money for a given bank customer.\n",
    "4. Include error messages for inputs that are not permissible, e.g., withdrawing negative amounts or overdrawing the account, etc."
   ]
  },
  {
   "cell_type": "code",
   "execution_count": 50,
   "metadata": {
    "id": "aEr0j2IX7a85"
   },
   "outputs": [],
   "source": [
    "#1.\n",
    "customers=[\"Marie\",\"Klaus\"]\n",
    "def span(customer_list):\n",
    "    balances={}\n",
    "    for name in customer_list:\n",
    "        balances.update({name:0})\n",
    "    return balances\n",
    "\n",
    "balances=span(customers)\n",
    "\n",
    "#2.\n",
    "changeable_customers=[\"Moo\",\"Mii\",\"Maa\"]\n",
    "\n",
    "for a in changeable_customers:\n",
    "    balances.update({a:0})\n",
    "\n",
    "for a in changeable_customers:\n",
    "    balances.pop(a)\n",
    "\n",
    "#3. & 4.\n",
    "def add(moneyadd,customer):\n",
    "    if moneyadd < 0:\n",
    "        print(\"Error! Negative Amount\")\n",
    "    else:\n",
    "        aktuell=balances[customer]\n",
    "        balances.update({customer:aktuell+moneyadd})\n",
    "    \n",
    "def minus(moneyloss,customer):\n",
    "    if moneyloss < 0:\n",
    "        print(\"Error! Negative Amount\")\n",
    "    else:\n",
    "        aktuell=balances[customer]\n",
    "        if aktuell-moneyloss<0:\n",
    "            print(\"Error! This would be overdrawing the Account!\")\n",
    "        else:\n",
    "            balances.update({customer:aktuell-moneyloss})\n"
   ]
  },
  {
   "cell_type": "markdown",
   "metadata": {
    "id": "9tMOI3tn7a86"
   },
   "source": [
    "## Task 02 – Classes\n",
    "The manager thinks that the simple bookkeeping system you have built is not powerful enough. She requests that you start from scratch and use classes instead.\n",
    "1. Write a simple class with appropriate constructor *\\_\\_init\\_\\_* that initializes an object of class *Customer* tracking the same information as in Task 01.\n",
    "2. Now write two simple methods for class *Customer* that allow you to deposit and withdraw money for a given customer object.\n",
    "3. Include error messages for inputs that are not permissible, e.g., withdrawing negative amounts or overdrawing the account.\n",
    "4. (Inheritance) Write a child class *SavingsCustomer* that inherits its features from the parent class *Customer*. A savings customer has an extra savings balance for receiving extra interest. The class should have a method to transfer money back and forth between the accounts' main balance as well as the savings balance. Do not forget to add reasonable error messages."
   ]
  },
  {
   "cell_type": "code",
   "execution_count": 51,
   "metadata": {
    "id": "mcZ6wBOO7a86"
   },
   "outputs": [],
   "source": [
    "class Customer:\n",
    "    def __init__(self, name):\n",
    "        self.name = name\n",
    "        self.money = 0\n",
    "\n",
    "    def add(self,moneyadd):\n",
    "        if moneyadd < 0:\n",
    "            print(\"Error! Negative Amount\")\n",
    "        else:\n",
    "            self.money+=moneyadd\n",
    "        \n",
    "    def minus(self,moneyloss):\n",
    "        if moneyloss < 0:\n",
    "            print(\"Error! Negative Amount\")\n",
    "        else:\n",
    "            aktuell=self.money\n",
    "            if aktuell-moneyloss<0:\n",
    "                print(\"Error! This would be overdrawing the Account!\")\n",
    "            else:\n",
    "                self.money-=moneyloss\n",
    "\n",
    "class SavingsCustomer(Customer):\n",
    "    def __init__(self, name):\n",
    "        self.name = name\n",
    "        self.money = 0\n",
    "        self.saving =0\n",
    "    def transfer_main(self,amount):\n",
    "        if amount < 0:\n",
    "            print(\"Error! Negative Amount\")\n",
    "        else:\n",
    "            if self.saving-amount<0:\n",
    "                print(\"Error! This would be overdrawing the Savings Account!\")\n",
    "            else:\n",
    "                self.saving-=amount\n",
    "                self.money+=amount\n",
    "    def transfer_saving(self,amount):\n",
    "        if amount < 0:\n",
    "            print(\"Error! Negative Amount\")\n",
    "        else:\n",
    "            if self.money-amount<0:\n",
    "                print(\"Error! This would be overdrawing the Main Account!\")\n",
    "            else:\n",
    "                self.saving+=amount\n",
    "                self.money-=amount"
   ]
  },
  {
   "cell_type": "code",
   "execution_count": null,
   "metadata": {},
   "outputs": [],
   "source": []
  }
 ],
 "metadata": {
  "colab": {
   "provenance": []
  },
  "kernelspec": {
   "display_name": "Python 3 (ipykernel)",
   "language": "python",
   "name": "python3"
  },
  "language_info": {
   "codemirror_mode": {
    "name": "ipython",
    "version": 3
   },
   "file_extension": ".py",
   "mimetype": "text/x-python",
   "name": "python",
   "nbconvert_exporter": "python",
   "pygments_lexer": "ipython3",
   "version": "3.9.7"
  }
 },
 "nbformat": 4,
 "nbformat_minor": 1
}
