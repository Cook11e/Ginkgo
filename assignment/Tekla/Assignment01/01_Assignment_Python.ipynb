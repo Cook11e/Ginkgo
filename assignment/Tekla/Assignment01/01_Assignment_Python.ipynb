{
 "cells": [
  {
   "cell_type": "markdown",
   "metadata": {
    "id": "LZgQdr4W6iKz"
   },
   "source": [
    "# Assignment 01\n",
    "##### Python Basics I\n",
    "\n",
    "This tutorial was written by Terry Ruas (University of Göttingen). The references for external contributors for which this material was anyhow adapted/inspired are in the Acknowledgments section (end of the document).\n"
   ]
  },
  {
   "cell_type": "markdown",
   "metadata": {
    "id": "4GPUv_8U6iK1"
   },
   "source": [
    "## Task 01 – Hello World!\n",
    "Write a simple program that asks the user to input a name and outputs a simple greeting, such as ‘Hi Name! Nice to meet you!’ and in the other line, ‘Welcome to the Programing Course!’. \n",
    "\n",
    "*Hint: Check out the input () and print() function in Python.* "
   ]
  },
  {
   "cell_type": "code",
   "execution_count": 5,
   "metadata": {
    "id": "xt3XV0YD6iK2"
   },
   "outputs": [
    {
     "name": "stdout",
     "output_type": "stream",
     "text": [
      "a\n",
      "Hi a! Nice to meet you! \n",
      "Welcome to the Programing Course!\n"
     ]
    }
   ],
   "source": [
    "a=input()\n",
    "print(\"Hi \"+a+\"! Nice to meet you! \\n\"+\"Welcome to the Programing Course!\")"
   ]
  },
  {
   "cell_type": "markdown",
   "metadata": {
    "id": "_Jz4T4AQ6iK3"
   },
   "source": [
    "## Task 02 – Reversed Words\n",
    "Write a program that reads in a word provided by the user and prints the word in a reversed order. For example, if the input is hello, the output should be ‘olleh’. \n",
    "\n",
    "- Use a loop structure \n",
    "- Use just array indexes \n"
   ]
  },
  {
   "cell_type": "code",
   "execution_count": 23,
   "metadata": {
    "id": "aKLGcZ0_6iK3"
   },
   "outputs": [
    {
     "name": "stdout",
     "output_type": "stream",
     "text": [
      "4\n",
      "3\n",
      "2\n",
      "1\n",
      "0\n",
      "olleh\n",
      "olleh\n"
     ]
    }
   ],
   "source": [
    "a=input()\n",
    "b=\"\"\n",
    "liste=[]\n",
    "#loop structure\n",
    "for i in range(len(a),0,-1):\n",
    "    b+=a[i-1]\n",
    "print(b)\n",
    "#Just array indexes\n",
    "print(a[::-1])"
   ]
  },
  {
   "cell_type": "markdown",
   "metadata": {
    "id": "PalhJ9x36iK4"
   },
   "source": [
    "## Task 03 –  Fibonacci Numbers\n",
    "Write a program that reads in an upper bound (number) provided by the user and prints the sequence of Fibonacci numbers that are less or equal to the number given by the user. Use a while-loop for this task. \n",
    "\n",
    "The Fibonacci sequence is defined as \n",
    "$ F_{n}=F_{n−1}+F_{n−2}$. Use $F_{0}=0$ and $F_{1} = 1$ as seed values.  \n",
    "\n",
    "For example, if the user inputs 6, the output should be 0, 1, 1, 2, 3, 5. \n",
    "\n",
    "\n",
    "\n"
   ]
  },
  {
   "cell_type": "code",
   "execution_count": 47,
   "metadata": {
    "id": "vm5UlcKB6iK4"
   },
   "outputs": [
    {
     "name": "stdout",
     "output_type": "stream",
     "text": [
      "6\n",
      "0, 1, 1, 2, 3, 5\n"
     ]
    }
   ],
   "source": [
    "a=int(input())\n",
    "i=0\n",
    "string=\"\"\n",
    "while i < a:\n",
    "    if i==0:\n",
    "        string+=str(i)\n",
    "        i=1\n",
    "        zwei_zahlen=[0,1]\n",
    "        continue\n",
    "    string+=\", \"+str(i)\n",
    "    i_vorher=i\n",
    "    i=zwei_zahlen[0]+zwei_zahlen[1]\n",
    "    zwei_zahlen=[i_vorher,i]\n",
    "    \n",
    "print(string)"
   ]
  },
  {
   "cell_type": "markdown",
   "metadata": {
    "id": "JV1Mm9qA6iK5"
   },
   "source": [
    "## Task 04 – Selective Printing \n",
    "\n",
    "Write a program that reads in an upper bound (number) provided by the user and prints all integer numbers that are less or equal to the upper bound except the integer numbers that are divisible by 3. Use the continue statement. For example, if the user enters 6 as the upper bound, the output should be 0, 1, 2, 4, 5.  "
   ]
  },
  {
   "cell_type": "code",
   "execution_count": 51,
   "metadata": {
    "id": "C3i7ctus6iK6"
   },
   "outputs": [
    {
     "name": "stdout",
     "output_type": "stream",
     "text": [
      "0\n"
     ]
    }
   ],
   "source": [
    "a = int(input())\n",
    "b = \"0\"\n",
    "for i in range(a+1):\n",
    "    if i%3==0:\n",
    "        continue\n",
    "    b+=\", \"+str(i)\n",
    "    \n",
    "print(b)"
   ]
  },
  {
   "cell_type": "markdown",
   "metadata": {
    "id": "qz4P36Lz6iK6"
   },
   "source": [
    "## Task 05 – Triangle Checking   \n",
    "\n",
    "Write a Python program that asks the user to input the lengths of the sides in a triangle and outputs whether the triangle is equilateral, isosceles, or scalene. The program should also check for the Triangle inequality $(z < x + y)$,  and prompt the user for a valid input. \n",
    "\n",
    "- An equilateral triangle is a triangle in which all three sides are of equal length. \n",
    "- An isosceles triangle is a triangle with (at least) two sides of equal length. \n",
    "- A scalene triangle is a triangle in which all three sides have different lengths. \n",
    "\n",
    "For example, if the user inputs a=3, b=4, c=5, the triangle is scalene. \n"
   ]
  },
  {
   "cell_type": "code",
   "execution_count": 69,
   "metadata": {
    "id": "2c67p_Zc6iK7"
   },
   "outputs": [
    {
     "name": "stdout",
     "output_type": "stream",
     "text": [
      "2\n",
      "2\n",
      "1\n",
      "The triangle is isoscele.\n"
     ]
    }
   ],
   "source": [
    "abc=[int(input()),int(input()),int(input())]\n",
    "d=0\n",
    "\n",
    "while max(abc) > sum(abc)-max(abc) or abc==[]:\n",
    "    print(\"Please input valid lenghts of a triangle, one number at a time:\")\n",
    "    abc=[int(input()),int(input()),int(input())]\n",
    "\n",
    "if abc[0]==abc[1]:\n",
    "    d+=1\n",
    "\n",
    "if abc[0]==abc[2]:\n",
    "    d+=1\n",
    "\n",
    "if abc[1]==abc[2]:\n",
    "    d+=1\n",
    "    \n",
    "if d==0:\n",
    "    print(\"The triangle is scalene.\")\n",
    "\n",
    "elif d==3:\n",
    "    print(\"The triangle is equilateral.\")\n",
    "\n",
    "else:\n",
    "    print(\"The triangle is isoscele.\")\n"
   ]
  },
  {
   "cell_type": "markdown",
   "metadata": {
    "id": "k1kh3odh6iK7"
   },
   "source": [
    "## Task 06 – Decimal to Octal Conversion \n",
    "\n",
    "Write a program that reads a non-negative integer number in the decimal representation provided by the user and prints the octal representation of the number. For example, if the user enters 167, the output should be 247.  \n",
    "\n",
    "Write a more general program that reads in a non-negative number (potentially including decimal places) in the decimal representation provided by the user and prints the octal representation of the number. For example, if the user enters 25.11, the output should be 31.0702436560507534. "
   ]
  },
  {
   "cell_type": "code",
   "execution_count": 165,
   "metadata": {
    "id": "2-UCbTRQ6iK7"
   },
   "outputs": [
    {
     "name": "stdout",
     "output_type": "stream",
     "text": [
      "550\n",
      "1046\n"
     ]
    }
   ],
   "source": [
    "#no decimal places\n",
    "\n",
    "a = int(input())\n",
    "i = 0\n",
    "string = \"\"\n",
    "\n",
    "while True:\n",
    "    if a/8**(i+1)>=1:\n",
    "        i+=1\n",
    "    else:\n",
    "        high=i\n",
    "        break\n",
    "    \n",
    "for k in range(high,-1,-1):\n",
    "    b=a//8**k\n",
    "    string+=str(b)\n",
    "    a=a-b*8**k\n",
    "\n",
    "print(string)"
   ]
  },
  {
   "cell_type": "code",
   "execution_count": 21,
   "metadata": {},
   "outputs": [
    {
     "name": "stdout",
     "output_type": "stream",
     "text": [
      "25.11\n",
      "31.0702436560507534\n"
     ]
    }
   ],
   "source": [
    "#decimal places\n",
    "c = float(input())\n",
    "a = int(c//1)\n",
    "d = c-a\n",
    "i = 0\n",
    "string = \"\"\n",
    "low=-1\n",
    "\n",
    "while True:\n",
    "    if a/8**(i+1)>=1:\n",
    "        i+=1\n",
    "    else:\n",
    "        high=i\n",
    "        break\n",
    "\n",
    "while d!=0:\n",
    "    d = d-((d//8**low)*8**low)\n",
    "    low=low-1\n",
    "    \n",
    "for k in range(high,low,-1):\n",
    "    if k==-1:\n",
    "        string+=\".\"\n",
    "    b=int(c//8**k)\n",
    "    string+=str(b)\n",
    "    c=c-b*8**k\n",
    "        \n",
    "\n",
    "print(string)"
   ]
  },
  {
   "cell_type": "code",
   "execution_count": 15,
   "metadata": {},
   "outputs": [
    {
     "data": {
      "text/plain": [
       "0.0"
      ]
     },
     "execution_count": 15,
     "metadata": {},
     "output_type": "execute_result"
    }
   ],
   "source": [
    "(0.11//(8**-1))\n"
   ]
  },
  {
   "cell_type": "code",
   "execution_count": 202,
   "metadata": {},
   "outputs": [
    {
     "data": {
      "text/plain": [
       "35.840000000000146"
      ]
     },
     "execution_count": 202,
     "metadata": {},
     "output_type": "execute_result"
    }
   ],
   "source": [
    "0.5600000000000023/8**-2"
   ]
  },
  {
   "cell_type": "markdown",
   "metadata": {
    "id": "Wl9JCEYM6iK-"
   },
   "source": [
    "## Acknowledgements\n",
    "\n",
    "Redmond, Hsu, Saini, Gupta, Ramsey, Kondrich, Capoor, Cohen, Borus, Kincaid, Malik, and many others. - Stanford CS41"
   ]
  }
 ],
 "metadata": {
  "colab": {
   "collapsed_sections": [],
   "provenance": []
  },
  "kernelspec": {
   "display_name": "Python 3 (ipykernel)",
   "language": "python",
   "name": "python3"
  },
  "language_info": {
   "codemirror_mode": {
    "name": "ipython",
    "version": 3
   },
   "file_extension": ".py",
   "mimetype": "text/x-python",
   "name": "python",
   "nbconvert_exporter": "python",
   "pygments_lexer": "ipython3",
   "version": "3.9.7"
  }
 },
 "nbformat": 4,
 "nbformat_minor": 1
}
