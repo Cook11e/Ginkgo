{
 "cells": [
  {
   "cell_type": "markdown",
   "metadata": {
    "id": "LZgQdr4W6iKz"
   },
   "source": [
    "# Assignment 02\n",
    "##### Python Basics II\n",
    "\n",
    "This tutorial was written by Terry Ruas (University of Göttingen); The references for external contributors for which this material was anyhow adapted/inspired are in the Acknowledgments section (end of the document).\n"
   ]
  },
  {
   "cell_type": "markdown",
   "metadata": {
    "id": "Yvektzz_6iK1"
   },
   "source": [
    "This notebook will cover the following tasks:\n",
    "\n",
    "1. String Length\n",
    "2. Largest List Element\n",
    "3. Character Frequency\n",
    "4. Sorted List of Tuples\n",
    "5. Check Brackets\n",
    "6. Check Brackets II\n",
    "7. Queue\n",
    "8. Unlimited Power\n",
    "9. Unlimited Power II"
   ]
  },
  {
   "cell_type": "markdown",
   "metadata": {
    "id": "4GPUv_8U6iK1"
   },
   "source": [
    "## Task 01 – String Length\n",
    "Write a program that reads in a string and prints the length of the input string. Do not use any built-in functions of Python, such as len().\n",
    "For example, if the input is “Computer Science”, the output should be length: 16."
   ]
  },
  {
   "cell_type": "code",
   "execution_count": 2,
   "metadata": {
    "id": "xt3XV0YD6iK2"
   },
   "outputs": [
    {
     "name": "stdout",
     "output_type": "stream",
     "text": [
      "was geht diggi\n",
      "14\n"
     ]
    }
   ],
   "source": [
    "s = str(input())\n",
    "j = 0\n",
    "for i in s:\n",
    "    j += 1\n",
    "print(j)"
   ]
  },
  {
   "cell_type": "markdown",
   "metadata": {
    "id": "_Jz4T4AQ6iK3"
   },
   "source": [
    "## Task 02 – Largest List Element\n",
    "Write a program that generates a list of 10 random integers between 1 and 100 and then finds and prints the largest element in the list. Do not use the built-in function max().\n",
    "For example, if the input is [23,3,42,29,12,15,8,4,37,34], the output should be the largest element: 42.\n",
    "\n",
    "Hint: Check out the module [random](https://docs.python.org/3.7/library/random.html)."
   ]
  },
  {
   "cell_type": "code",
   "execution_count": 24,
   "metadata": {
    "id": "aKLGcZ0_6iK3"
   },
   "outputs": [
    {
     "name": "stdout",
     "output_type": "stream",
     "text": [
      "[12, 16, 47, 67, 81, 11, 91, 68, 74, 46]\n",
      "91\n"
     ]
    }
   ],
   "source": [
    "import random\n",
    "l = []\n",
    "for i in range(10):\n",
    "    x = random.random()\n",
    "    num = 100 * x + 1 \n",
    "    l.append(int(num))\n",
    "print(l)\n",
    "maxi = 0\n",
    "for n in l:\n",
    "    if n > maxi:\n",
    "        maxi = n\n",
    "    else:\n",
    "        pass\n",
    "print(maxi)\n",
    "    \n",
    "    "
   ]
  },
  {
   "cell_type": "markdown",
   "metadata": {
    "id": "PalhJ9x36iK4"
   },
   "source": [
    "## Task 03 – Character Frequency\n",
    "Write a program that:\n",
    "* Reads in a string and removes any spaces from the string\n",
    "* Counts how often individual characters occur in the string\n",
    "* Stores the information on character occurrence frequency in a dictionary\n",
    "* Prints the dictionary.\n",
    "\n",
    "For example, if the input is “santa claus”, the output should be:\n",
    "{'s': 2, 'a': 3, 'n': 1, 't': 1, 'c': 1, 'l': 1, 'u': 1}."
   ]
  },
  {
   "cell_type": "code",
   "execution_count": 45,
   "metadata": {
    "id": "vm5UlcKB6iK4"
   },
   "outputs": [
    {
     "name": "stdout",
     "output_type": "stream",
     "text": [
      "mvljvlvlvlvlvljvljhv jh j jvjvjöv\n",
      "{'m': 1, 'v': 11, 'l': 7, 'j': 8, 'h': 2, 'ö': 1}\n"
     ]
    }
   ],
   "source": [
    "st = str(input())\n",
    "new_string = \"\"\n",
    "for i in st:\n",
    "    if i == \" \":\n",
    "        pass\n",
    "    else:\n",
    "        new_string += i\n",
    "new_dict = {}\n",
    "for n in new_string:\n",
    "    new_dict[n] = 0\n",
    "for k in new_string:\n",
    "    new_dict[k] +=1\n",
    "print(new_dict)\n",
    "    \n",
    "    \n",
    "    \n",
    "        "
   ]
  },
  {
   "cell_type": "markdown",
   "metadata": {
    "id": "JV1Mm9qA6iK5"
   },
   "source": [
    "## Task 04 – Sorted List of Tuples\n",
    "Write a program that:\n",
    "* Generates a list of 10 tuples, each tuple consisting of 3 random integers between 1 and 100\n",
    "* Sorts the list of tuples in increasing order of the third element in each tuple\n",
    "* Prints the sorted list of tuples\n",
    "\n",
    "For example, if the generated input list is: [(56, 77, 69), (43, 30, 38), (2, 77, 101), (93, 57, 4), (74, 21, 77), (39, 68, 68), (65, 53, 96), (16, 29, 88), (88, 70, 38)]\n",
    "The output should be: [(93, 57, 4), (43, 30, 38), (88, 70, 38), (39, 68, 68), (56, 77, 69), (74, 21, 77), (16, 29, 88), (65, 53, 96), (2, 77, 101)]\n",
    "\n",
    "Hint: You are allowed and encouraged to use built-in functions, such as [sorted()](https://docs.python.org/3.7/library/functions.html?highlight=sorted#sorted), for this task."
   ]
  },
  {
   "cell_type": "code",
   "execution_count": 58,
   "metadata": {
    "id": "C3i7ctus6iK6"
   },
   "outputs": [
    {
     "name": "stdout",
     "output_type": "stream",
     "text": [
      "[(30, 12, 5), (61, 32, 30), (77, 12, 38), (22, 85, 42), (44, 42, 46), (26, 65, 49), (79, 65, 62), (76, 96, 77), (39, 83, 86), (54, 80, 100)]\n"
     ]
    }
   ],
   "source": [
    "import random\n",
    "lt = []\n",
    "for i in range(10):\n",
    "    tp = ()\n",
    "    for k in range(3):\n",
    "        x = random.random()\n",
    "        num = int(x * 100 + 1)\n",
    "        tp += (num,)\n",
    "    lt.append(tp)\n",
    "new_lt = sorted(lt, key=lambda drei: drei[2])\n",
    "print(new_lt)"
   ]
  },
  {
   "cell_type": "markdown",
   "metadata": {
    "id": "qz4P36Lz6iK6"
   },
   "source": [
    "## Task 05 – Check Brackets\n",
    "Write a program that reads in a string, which is supposed to be a mathematical expression. Focus on brackets only and check whether left and right brackets are composed correctly. Ignore all other characters (i.e. you don’t have to check correctness of operators and operands).\n",
    "Examples of correct input:\n",
    "* 3*(2+5)\n",
    "* ((()())())\n",
    "* (3+)(((4)))\n",
    "* Empty string\n",
    "\n",
    "Examples of incorrect input:\n",
    "* (3*(2+5)\n",
    "* ((()())(())\n",
    "* (3+)((4)))\n",
    "* ())(()\n"
   ]
  },
  {
   "cell_type": "code",
   "execution_count": null,
   "metadata": {
    "id": "2c67p_Zc6iK7"
   },
   "outputs": [],
   "source": [
    "math_str = str(input())\n",
    "leftbr = 0\n",
    "rightbr = 0\n",
    "for i in math_str:\n",
    "    if i == \"(\":\n",
    "        leftbr += 1\n",
    "    elif i == \")\":\n",
    "        rightbr += 1\n",
    "    else:\n",
    "        pass\n",
    "if leftbr != rightbr:\n",
    "    print(\"Wrong input!\")"
   ]
  },
  {
   "cell_type": "markdown",
   "metadata": {
    "id": "k1kh3odh6iK7"
   },
   "source": [
    "## Task 06 – Check Brackets II\n",
    "Extend previous program, so it can handle also square and curly brackets. Note that expressions in brackets cannot overlap. So, expression ```{[()()]([[]])}{}``` is correct, but expression ```([)]``` is not."
   ]
  },
  {
   "cell_type": "code",
   "execution_count": 63,
   "metadata": {
    "id": "2-UCbTRQ6iK7"
   },
   "outputs": [
    {
     "name": "stdout",
     "output_type": "stream",
     "text": [
      "{[()()]([[]])}{}\n"
     ]
    }
   ],
   "source": [
    "text = str(input())\n",
    "opens = {'round':0, 'square':0, 'curly':0}\n",
    "last_open = None\n",
    "brackets = '()[]{}'\n",
    "\n",
    "for letter in text:\n",
    "    if letter not in brackets:\n",
    "        continue\n",
    "    if letter == '(':\n",
    "        opens['round'] += 1\n",
    "        last_open = 'round'\n",
    "    if letter == ')':\n",
    "        opens['round'] -= 1\n",
    "        if last_open != 'round':\n",
    "            print('ERROR')\n",
    "    if letter == '[':\n",
    "        opens['square'] += 1\n",
    "    if letter == ']':\n",
    "        opens['square'] -= 1\n",
    "    if letter == '{':\n",
    "        opens['curly'] += 1\n",
    "    if letter == '}':\n",
    "        opens['curly'] -= 1\n",
    "    if -1 in opens.values():\n",
    "        print('ERROR')"
   ]
  },
  {
   "cell_type": "markdown",
   "metadata": {
    "id": "tc-8rPlP6iK7"
   },
   "source": [
    "## Task 07 – Queue\n",
    "Write a program that simulates a queue. It will read strings from the input. Consider these inputs as names of people coming to the end of a queue. Whenever “next” is given as input, the program will print out the name on the turn. The program finishes as soon as the queue is empty."
   ]
  },
  {
   "cell_type": "code",
   "execution_count": 1,
   "metadata": {},
   "outputs": [],
   "source": [
    "guestlist = []"
   ]
  },
  {
   "cell_type": "code",
   "execution_count": 8,
   "metadata": {
    "id": "X0o04N6s6iK7"
   },
   "outputs": [
    {
     "name": "stdout",
     "output_type": "stream",
     "text": [
      "next\n"
     ]
    }
   ],
   "source": [
    "inpt = str(input())\n",
    "if inpt == \"next\":\n",
    "    try:\n",
    "        name = guestlist[0]\n",
    "        print(name)\n",
    "        guestlist.remove(name)\n",
    "    except IndexError:\n",
    "        pass\n",
    "else:\n",
    "    guestlist.append(inpt)\n"
   ]
  },
  {
   "cell_type": "markdown",
   "metadata": {
    "id": "eIhaN3g36iK8"
   },
   "source": [
    "## Task 08 – Unlimited Power\n",
    "Write a function with two arguments – $x$ and $n$. The function returns the value of $x^n$. Use [recursion](https://realpython.com/python-thinking-recursively/#recursive-data-structures-in-python)."
   ]
  },
  {
   "cell_type": "code",
   "execution_count": 12,
   "metadata": {
    "id": "KSGHEAeL6iK8"
   },
   "outputs": [
    {
     "data": {
      "text/plain": [
       "64"
      ]
     },
     "execution_count": 12,
     "metadata": {},
     "output_type": "execute_result"
    }
   ],
   "source": [
    "def xhochn(x, n):\n",
    "    if n == 0: \n",
    "        return 1\n",
    "    if n == 1:\n",
    "        return x\n",
    "    else:\n",
    "        return x * (xhochn(x, n - 1))\n",
    "    \n",
    "xhochn(4, 3)\n",
    "    \n",
    "    \n",
    "    "
   ]
  },
  {
   "cell_type": "markdown",
   "metadata": {
    "id": "WBh2WBXY6iK8"
   },
   "source": [
    "## Task 09 – Unlimited Power II\n",
    "Using function for factorial and function $x^n$ from previous task, write a program that reads value of $x$ and prints approximate value of $e^x$. Use this formula (Taylor series) for calculation\n",
    "$$ e^x = 1 + x + \\frac{x^2}{2!} + \\frac{x^3}{3!} + ... + \\frac{x^n}{n!} $$\n",
    "\n",
    "To get precise value of $e^x$, the series would have to be infinite. Suppose that there is some required accuracy, so the calculation finishes as soon as the value of the next element is smaller than given threshold (e.g., 0.000001)."
   ]
  },
  {
   "cell_type": "code",
   "execution_count": 45,
   "metadata": {
    "id": "tRaZgBVX6iK9"
   },
   "outputs": [
    {
     "data": {
      "text/plain": [
       "2.71827876984127"
      ]
     },
     "execution_count": 45,
     "metadata": {},
     "output_type": "execute_result"
    }
   ],
   "source": [
    "import math\n",
    "def exp(x):\n",
    "    e = 0\n",
    "    for i in range(0, 1000):\n",
    "        test = (x**i)/math.factorial(i) - (x**(i + 1))/math.factorial(i + 1)\n",
    "        if test > 0.00001 or i == 0:\n",
    "            e += ((x**i)/math.factorial(i))\n",
    "        else:\n",
    "            return e\n",
    "        \n",
    "\n",
    "exp(1)"
   ]
  },
  {
   "cell_type": "markdown",
   "metadata": {
    "id": "Wl9JCEYM6iK-"
   },
   "source": [
    "## Acknowledgements\n",
    "\n",
    "Redmond, Hsu, Saini, Gupta, Ramsey, Kondrich, Capoor, Cohen, Borus, Kincaid, Malik, and many others. - Stanford CS41"
   ]
  },
  {
   "cell_type": "code",
   "execution_count": 35,
   "metadata": {
    "id": "Bx-WQj4v6iK-"
   },
   "outputs": [
    {
     "name": "stdout",
     "output_type": "stream",
     "text": [
      "1\n",
      "1\n"
     ]
    },
    {
     "data": {
      "text/plain": [
       "1.0"
      ]
     },
     "execution_count": 35,
     "metadata": {},
     "output_type": "execute_result"
    }
   ],
   "source": [
    "x = 1\n",
    "i = 1\n",
    "print(x**i)\n",
    "print(math.factorial(i))\n",
    "a = ((x**i)/math.factorial(i))\n",
    "a"
   ]
  },
  {
   "cell_type": "code",
   "execution_count": null,
   "metadata": {},
   "outputs": [],
   "source": []
  }
 ],
 "metadata": {
  "colab": {
   "provenance": []
  },
  "kernelspec": {
   "display_name": "Python 3 (ipykernel)",
   "language": "python",
   "name": "python3"
  },
  "language_info": {
   "codemirror_mode": {
    "name": "ipython",
    "version": 3
   },
   "file_extension": ".py",
   "mimetype": "text/x-python",
   "name": "python",
   "nbconvert_exporter": "python",
   "pygments_lexer": "ipython3",
   "version": "3.10.8"
  }
 },
 "nbformat": 4,
 "nbformat_minor": 1
}
